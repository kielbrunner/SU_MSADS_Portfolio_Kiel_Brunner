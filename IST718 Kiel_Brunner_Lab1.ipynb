{
  "nbformat": 4,
  "nbformat_minor": 0,
  "metadata": {
    "colab": {
      "name": "Kiel_Brunner_Lab1.ipynb",
      "provenance": [],
      "collapsed_sections": []
    },
    "kernelspec": {
      "name": "python3",
      "display_name": "Python 3"
    }
  },
  "cells": [
    {
      "cell_type": "markdown",
      "metadata": {
        "id": "BxwuKeq71rL-",
        "colab_type": "text"
      },
      "source": [
        "Kiel Brunner | \n",
        "Lab 1 |\n",
        "IST718"
      ]
    },
    {
      "cell_type": "code",
      "metadata": {
        "id": "mB1l6qgfzMVh",
        "colab_type": "code",
        "colab": {}
      },
      "source": [
        "import pandas as pd \n",
        "import numpy as np \n",
        "from scipy.stats import uniform \n",
        "import statsmodels.api as sm \n",
        "import statsmodels.formula.api as smf \n",
        "import matplotlib.pyplot as plt \n",
        "import seaborn as sns\n",
        "import requests\n",
        "import bs4\n",
        "from bs4 import BeautifulSoup\n",
        "import urllib.request\n",
        "from IPython.display import HTML\n",
        "import re\n",
        "from fuzzywuzzy import fuzz\n",
        "from fuzzywuzzy import process\n",
        "import fuzzymatcher\n",
        "import fuzzy_pandas as fpd\n"
      ],
      "execution_count": 0,
      "outputs": []
    },
    {
      "cell_type": "markdown",
      "metadata": {
        "id": "iGcw4stA4djr",
        "colab_type": "text"
      },
      "source": [
        "## Data Acquisition, Inspection and Cleaning\n",
        "\n",
        "\n"
      ]
    },
    {
      "cell_type": "markdown",
      "metadata": {
        "id": "DRx1GlCr6pul",
        "colab_type": "text"
      },
      "source": [
        "Load the 'Coaches9.csv' file and inspect the information. "
      ]
    },
    {
      "cell_type": "code",
      "metadata": {
        "id": "LwLtYcI12DUh",
        "colab_type": "code",
        "outputId": "bc57549d-30c0-4c68-8d7c-c00f1d00d3e5",
        "colab": {
          "resources": {
            "http://localhost:8080/nbextensions/google.colab/files.js": {
              "data": "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",
              "ok": true,
              "headers": [
                [
                  "content-type",
                  "application/javascript"
                ]
              ],
              "status": 200,
              "status_text": ""
            }
          },
          "base_uri": "https://localhost:8080/",
          "height": 74
        }
      },
      "source": [
        "from google.colab import files\n",
        "uploaded = files.upload()"
      ],
      "execution_count": 10,
      "outputs": [
        {
          "output_type": "display_data",
          "data": {
            "text/html": [
              "\n",
              "     <input type=\"file\" id=\"files-190d7ddf-27f7-40e6-9dec-62f22e5fb8cc\" name=\"files[]\" multiple disabled />\n",
              "     <output id=\"result-190d7ddf-27f7-40e6-9dec-62f22e5fb8cc\">\n",
              "      Upload widget is only available when the cell has been executed in the\n",
              "      current browser session. Please rerun this cell to enable.\n",
              "      </output>\n",
              "      <script src=\"/nbextensions/google.colab/files.js\"></script> "
            ],
            "text/plain": [
              "<IPython.core.display.HTML object>"
            ]
          },
          "metadata": {
            "tags": []
          }
        },
        {
          "output_type": "stream",
          "text": [
            "Saving Coaches9.csv to Coaches9.csv\n"
          ],
          "name": "stdout"
        }
      ]
    },
    {
      "cell_type": "markdown",
      "metadata": {
        "id": "ZjYXSYRl6Tje",
        "colab_type": "text"
      },
      "source": [
        "Call in the data and inspect it to assess changes that need to be made. Remove the 'SchoolPay' column and use the 'TotalPay' column for analysis and prediction, as they would be predictors for eachother and build a useless model. "
      ]
    },
    {
      "cell_type": "code",
      "metadata": {
        "id": "eEOBHLEm2X8c",
        "colab_type": "code",
        "outputId": "32ea8f73-d26e-46e9-9046-625b697116e5",
        "colab": {
          "base_uri": "https://localhost:8080/",
          "height": 306
        }
      },
      "source": [
        "Coaches = pd.read_csv(\"Coaches9.csv\")\n",
        "\n",
        "print(pd.DataFrame.head(Coaches))\n",
        "##Inspect data\n",
        "#Coaches.describe()\n",
        "\n",
        "##Inspect column variable types\n",
        "#Coaches.dtypes\n",
        "\n",
        "##Remove duplicative variable\n",
        "del Coaches['SchoolPay']\n",
        "##Change variable to lowercase\n",
        "Coaches['School'] =Coaches['School'].str.lower()"
      ],
      "execution_count": 11,
      "outputs": [
        {
          "output_type": "stream",
          "text": [
            "                  School Conference  ... AssistantPay        Buyout\n",
            "0              Air Force   Mt. West  ...          $0             --\n",
            "1                  Akron        MAC  ...          $0      $688,500 \n",
            "2                Alabama        SEC  ...          $0   $33,600,000 \n",
            "3  Alabama at Birmingham      C-USA  ...          $0    $3,847,500 \n",
            "4      Appalachian State   Sun Belt  ...          $0    $2,160,417 \n",
            "\n",
            "[5 rows x 9 columns]\n"
          ],
          "name": "stdout"
        },
        {
          "output_type": "execute_result",
          "data": {
            "text/plain": [
              "School          object\n",
              "Conference      object\n",
              "Coach           object\n",
              "TotalPay        object\n",
              "Bonus           object\n",
              "BonusPaid       object\n",
              "AssistantPay    object\n",
              "Buyout          object\n",
              "dtype: object"
            ]
          },
          "metadata": {
            "tags": []
          },
          "execution_count": 11
        }
      ]
    },
    {
      "cell_type": "markdown",
      "metadata": {
        "id": "PIdOJzmqqyf_",
        "colab_type": "text"
      },
      "source": [
        "Find the location of missing values for 'TotalPay' to track them down and add to their respective current estimated or actual salary."
      ]
    },
    {
      "cell_type": "code",
      "metadata": {
        "id": "o4DQqXRTl4px",
        "colab_type": "code",
        "colab": {}
      },
      "source": [
        "##Replace missing values\n",
        "#Coaches.index[Coaches['TotalPay']=='--']\n",
        "#Coaches.iloc[12]\n",
        "#Coaches.iloc[16]\n",
        "#Coaches.iloc[91]\n",
        "#Coaches.iloc[99]\n",
        "Coaches.at[12,'TotalPay'] = '4100000'\n",
        "Coaches.at[16,'TotalPay'] = '1500000'\n",
        "Coaches.at[91,'TotalPay'] = '1500000'\n",
        "Coaches.at[99,'TotalPay'] = '700000'\n",
        "#Coaches['TotalPay'].value_counts()"
      ],
      "execution_count": 0,
      "outputs": []
    },
    {
      "cell_type": "markdown",
      "metadata": {
        "id": "aOLQJfZ7rWyY",
        "colab_type": "text"
      },
      "source": [
        "Convert 'TotalPay' into an integer. "
      ]
    },
    {
      "cell_type": "code",
      "metadata": {
        "id": "D9GmdQQlewdm",
        "colab_type": "code",
        "colab": {}
      },
      "source": [
        "#Convert variable type\n",
        "Coaches['TotalPay'] = Coaches['TotalPay'].astype(str)\n",
        "Coaches['TotalPay'] = Coaches['TotalPay'].replace({'\\$': '', ',': ''}, regex=True)\n",
        "Coaches['TotalPay'] = Coaches['TotalPay'].astype(int)\n",
        "#Coaches.dtypes"
      ],
      "execution_count": 0,
      "outputs": []
    },
    {
      "cell_type": "code",
      "metadata": {
        "id": "fiM3QAZh3BzB",
        "colab_type": "code",
        "colab": {}
      },
      "source": [
        "##Inspect variable to assess matching capacity\n",
        "#Coaches['Conference'].value_counts()"
      ],
      "execution_count": 0,
      "outputs": []
    },
    {
      "cell_type": "markdown",
      "metadata": {
        "id": "IZpqnZmTdXW9",
        "colab_type": "text"
      },
      "source": [
        "Scrape Endownment amount in Billions by Public and Private schools from wikipedia. \n"
      ]
    },
    {
      "cell_type": "code",
      "metadata": {
        "id": "cez82n3qmIBR",
        "colab_type": "code",
        "colab": {}
      },
      "source": [
        "from pandas.io.html import read_html\n",
        "endow_page = 'https://en.wikipedia.org/wiki/List_of_colleges_and_universities_in_the_United_States_by_endowment'\n",
        "wikitables_endow = read_html(endow_page, index_col=0, attrs={\"class\":\"wikitable sortable\"})\n",
        "\n",
        "#print(wikitables[1])\n",
        "NCAA_Endowment_public = wikitables_endow[1]\n",
        "NCAA_Endowment_private = wikitables_endow[0]\n",
        "#NCAA_Endowment_private.head()\n",
        "#NCAA_Endowment_public.head()\n",
        "NCAA_Endowment = pd.concat([NCAA_Endowment_public, NCAA_Endowment_private], ignore_index=False, axis=0)\n",
        "#NCAA_Endowment = pd.concat(NCAA_Endoment_pieces)\n",
        "NCAA_Endowment = NCAA_Endowment[['2018(billions USD)[3]']]\n",
        "NCAA_Endowment = NCAA_Endowment.reset_index()\n",
        "NCAA_Endowment = NCAA_Endowment.rename(columns={\"Institution\": \"School\"})\n",
        "NCAA_Endowment['School'] =NCAA_Endowment['School'].str.lower()\n",
        "\n",
        "NCAA_Endowment['School'] = NCAA_Endowment['School'].str.replace(r\"([\\(\\[]).*?([\\)\\]])\", \"\\g<1>\\g<2>\")\n",
        "NCAA_Endowment['School'] = NCAA_Endowment['School'].str.replace(r\"([\\(\\[]).*?([\\)\\]])\", \"\")\n",
        "NCAA_Endowment['School'] = NCAA_Endowment['School'].str.replace(r\"university\", \" \")\n",
        "\n",
        "#NCAA_Endowment"
      ],
      "execution_count": 0,
      "outputs": []
    },
    {
      "cell_type": "markdown",
      "metadata": {
        "id": "1S5FHBoJdI4a",
        "colab_type": "text"
      },
      "source": [
        "Import and clean conference table with nicknames to append to other tables and improve joins. "
      ]
    },
    {
      "cell_type": "code",
      "metadata": {
        "id": "Ev9d7vzsZuIi",
        "colab_type": "code",
        "colab": {}
      },
      "source": [
        "con_page = 'https://en.wikipedia.org/wiki/NCAA_Division_I_Football_Bowl_Subdivision'\n",
        "wikitables_con = read_html(con_page, index_col=0, attrs={\"class\":\"wikitable sortable\"})\n",
        "\n",
        "#print(wikitables_con[0])\n",
        "NCAA_Conference = wikitables_con[0]\n",
        "NCAA_Conference = NCAA_Conference.reset_index()\n",
        "\n",
        "NCAA_Conference = NCAA_Conference[['Conference','Nickname']]\n",
        "NCAA_Conference.at[5,'Nickname'] = 'Independent'\n",
        "NCAA_Conference.at[7,'Nickname'] = 'MT. West'\n",
        "\n",
        "NCAA_Conference['Conference'] = NCAA_Conference['Conference'].str.replace(r\"([\\(\\[]).*?([\\)\\]])\", \"\\g<1>\\g<2>\")\n",
        "NCAA_Conference['Conference'] = NCAA_Conference['Conference'].str.replace(r\"([\\(\\[]).*?([\\)\\]])\", \"\", regex=True)\n",
        "NCAA_Conference['Conference'] = NCAA_Conference['Conference'].str.replace(r\"Conference\", \" \")\n",
        "NCAA_Conference['Conference'] = NCAA_Conference['Conference'].replace({'†': ''}, regex=True)\n",
        "\n",
        "NCAA_Conference['Nickname'] = NCAA_Conference['Nickname'].str.replace(r\"([\\(\\[]).*?([\\)\\]])\", \"\\g<1>\\g<2>\")\n",
        "NCAA_Conference['Nickname'] = NCAA_Conference['Nickname'].str.replace(r\"([\\(\\[]).*?([\\)\\]])\", \"\", regex=True)\n",
        "NCAA_Conference['Nickname'] = NCAA_Conference['Nickname'].replace({'†': ''}, regex=True)\n",
        "\n",
        "#NCAA_Conference"
      ],
      "execution_count": 0,
      "outputs": []
    },
    {
      "cell_type": "markdown",
      "metadata": {
        "id": "h9bltZspdhU6",
        "colab_type": "text"
      },
      "source": [
        "Import and clean stadium information. "
      ]
    },
    {
      "cell_type": "code",
      "metadata": {
        "id": "LXHWFw2Uuoy1",
        "colab_type": "code",
        "colab": {}
      },
      "source": [
        "page = 'https://en.wikipedia.org/wiki/List_of_NCAA_Division_I_FBS_football_stadiums'\n",
        "wikitables_stadium = read_html(page, index_col=0, attrs={\"class\":\"wikitable sortable\"})\n",
        "\n",
        "NCAA_Stadium = wikitables_stadium[0]\n",
        "\n",
        "NCAA_Stadium = NCAA_Stadium.reset_index()\n",
        "NCAA_Stadium = NCAA_Stadium.rename(columns={\"Team\": \"School\"})\n",
        "NCAA_Stadium['School'] = NCAA_Stadium['School'].astype(str)\n",
        "NCAA_Stadium['School'] =NCAA_Stadium['School'].str.lower()\n",
        "NCAA_Stadium = NCAA_Stadium[['Stadium','School','Conference','Capacity','State']]\n",
        "NCAA_Stadium = pd.DataFrame(NCAA_Stadium)\n",
        "NCAA_Stadium['Capacity'] = NCAA_Stadium['Capacity'].str.replace(r\"([\\(\\[]).*?([\\)\\]])\", \"\\g<1>\\g<2>\")\n",
        "NCAA_Stadium['Capacity'] = NCAA_Stadium['Capacity'].str.replace(r\"([\\(\\[]).*?([\\)\\]])\", \"\")\n",
        "NCAA_Stadium['Capacity'] = NCAA_Stadium['Capacity'].replace({'\\$': '', ',': ''}, regex=True)\n",
        "NCAA_Stadium['Capacity'] = NCAA_Stadium['Capacity'].astype(int)\n",
        "#NCAA_Stadium"
      ],
      "execution_count": 0,
      "outputs": []
    },
    {
      "cell_type": "markdown",
      "metadata": {
        "id": "kzlRRWQIDS-a",
        "colab_type": "text"
      },
      "source": [
        "Import additional FBS info to improve joins."
      ]
    },
    {
      "cell_type": "code",
      "metadata": {
        "id": "OyX554HrDSI_",
        "colab_type": "code",
        "colab": {}
      },
      "source": [
        "con_page = 'https://en.wikipedia.org/wiki/List_of_NCAA_Division_I_FBS_football_programs'\n",
        "wikitables_fbs = read_html(con_page, index_col=0, attrs={\"class\":\"wikitable sortable\"})\n",
        "\n",
        "#print(wikitables_fbs[0])\n",
        "NCAA_fbs = pd.DataFrame(wikitables_fbs[0])\n",
        "\n",
        "NCAA_fbs = NCAA_fbs.reset_index()\n",
        "NCAA_fbs = NCAA_fbs[['Team','Nickname','CurrentConference','Enrollment']]\n",
        "NCAA_fbs['Team'] =NCAA_fbs['Team'].str.lower()\n",
        "\n",
        "#NCAA_fbs"
      ],
      "execution_count": 0,
      "outputs": []
    },
    {
      "cell_type": "markdown",
      "metadata": {
        "id": "YMd1h-sXAUl0",
        "colab_type": "text"
      },
      "source": [
        "Import Win/Loss record table with the following columns:\n",
        "\n",
        "Win-Loss Record: The number of wins, losses, and ties\n",
        "Win %: The percentage of time the team won\n",
        "MOV: The average margin of victory (negative in losses)\n",
        "ATS +/-: The average amount of points that the team covers the spread by"
      ]
    },
    {
      "cell_type": "code",
      "metadata": {
        "id": "5K2pDqpO813K",
        "colab_type": "code",
        "colab": {}
      },
      "source": [
        "page = 'https://www.teamrankings.com/ncf/trends/win_trends/'\n",
        "wikitable_records = read_html(page, index_col=0, attrs={\"class\":\"tr-table\"})\n",
        "wikitable_records[0]\n",
        "\n",
        "record = pd.DataFrame(wikitable_records[0])\n",
        "record = record.reset_index()\n",
        "#record"
      ],
      "execution_count": 0,
      "outputs": []
    },
    {
      "cell_type": "markdown",
      "metadata": {
        "id": "fZqzuVwff8Qq",
        "colab_type": "text"
      },
      "source": [
        "Attempts to pull down the FSR and GSR information were blocked by a bot blocker. "
      ]
    },
    {
      "cell_type": "code",
      "metadata": {
        "id": "Mb3sgQPzYB7b",
        "colab_type": "code",
        "colab": {}
      },
      "source": [
        "#import re\n",
        "#import mechanize\n",
        "\n",
        "#br = mechanize.Browser()\n",
        "#br.set_handle_robots(False)\n",
        "#br.set_handle_equiv(False) \n",
        "#br.open(\"https://web3.ncaa.org/aprsearch/gsrsearch/\")"
      ],
      "execution_count": 0,
      "outputs": []
    },
    {
      "cell_type": "markdown",
      "metadata": {
        "id": "4wTpTvdtfyKU",
        "colab_type": "text"
      },
      "source": [
        "In order to retrieve the FGR and GSR report that was blocked, I used the old fashion way of creating a file manually. "
      ]
    },
    {
      "cell_type": "code",
      "metadata": {
        "id": "uPL4CqGUeeKr",
        "colab_type": "code",
        "colab": {
          "resources": {
            "http://localhost:8080/nbextensions/google.colab/files.js": {
              "data": "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",
              "ok": true,
              "headers": [
                [
                  "content-type",
                  "application/javascript"
                ]
              ],
              "status": 200,
              "status_text": ""
            }
          },
          "base_uri": "https://localhost:8080/",
          "height": 74
        },
        "outputId": "63341121-9592-48b4-9e89-fb5645c5461e"
      },
      "source": [
        "from google.colab import files\n",
        "uploaded = files.upload()"
      ],
      "execution_count": 20,
      "outputs": [
        {
          "output_type": "display_data",
          "data": {
            "text/html": [
              "\n",
              "     <input type=\"file\" id=\"files-f031b6e9-45ba-42d6-aa23-5c3c370f64fe\" name=\"files[]\" multiple disabled />\n",
              "     <output id=\"result-f031b6e9-45ba-42d6-aa23-5c3c370f64fe\">\n",
              "      Upload widget is only available when the cell has been executed in the\n",
              "      current browser session. Please rerun this cell to enable.\n",
              "      </output>\n",
              "      <script src=\"/nbextensions/google.colab/files.js\"></script> "
            ],
            "text/plain": [
              "<IPython.core.display.HTML object>"
            ]
          },
          "metadata": {
            "tags": []
          }
        },
        {
          "output_type": "stream",
          "text": [
            "Saving FGR_GSR_report.xlsx to FGR_GSR_report.xlsx\n"
          ],
          "name": "stdout"
        }
      ]
    },
    {
      "cell_type": "code",
      "metadata": {
        "id": "lKVYDly8FyoA",
        "colab_type": "code",
        "colab": {}
      },
      "source": [
        "FGR_GSR_report = pd.read_excel(\"FGR_GSR_report.xlsx\")\n",
        "\n",
        "FGR_GSR_report['School'] =FGR_GSR_report['School'].str.lower()\n",
        "\n",
        "FGR_GSR_report =FGR_GSR_report[['School', 'Conference','State','GSR','FGR']]\n",
        "FGR_GSR_report['Conference'] = FGR_GSR_report['Conference'].str.replace(r\"Conference\", \" \")\n",
        "FGR_GSR_report['School'] = FGR_GSR_report['School'].str.replace(r\"university\", \" \")\n",
        "\n",
        "#FGR_GSR_report['Conference'].value_counts()\n",
        "#FGR_GSR_report"
      ],
      "execution_count": 0,
      "outputs": []
    },
    {
      "cell_type": "markdown",
      "metadata": {
        "id": "G8CwFnqW4Vee",
        "colab_type": "text"
      },
      "source": [
        "##Join Section"
      ]
    },
    {
      "cell_type": "markdown",
      "metadata": {
        "id": "-yJpg8ZuiCxK",
        "colab_type": "text"
      },
      "source": [
        "Join fbs to conference info."
      ]
    },
    {
      "cell_type": "code",
      "metadata": {
        "id": "qyMLr2ksf1J0",
        "colab_type": "code",
        "colab": {}
      },
      "source": [
        "left_on = [\"CurrentConference\"] \n",
        "right_on = [\"Nickname\"]\n",
        "\n",
        "fbs_con = fuzzymatcher.fuzzy_left_join(NCAA_fbs,NCAA_Conference, left_on, right_on)\n",
        "fbs_con = pd.DataFrame(fbs_con)\n",
        "fbs_con = fbs_con.sort_values(by='best_match_score', ascending = False)\n",
        "fbs_con = pd.DataFrame(fbs_con)\n",
        "fbs_con = fbs_con.reset_index()\n",
        "\n",
        "#with pd.option_context('display.max_rows', None, 'display.max_columns', None): \n",
        " #   print(report_stadium_coaches_endow_fbs)\n",
        "\n",
        "fbs_con = fbs_con[['Team','Nickname_left','CurrentConference','Enrollment','Conference','Nickname_right']]\n",
        "#fbs_con"
      ],
      "execution_count": 0,
      "outputs": []
    },
    {
      "cell_type": "markdown",
      "metadata": {
        "id": "qe3gOBmY2qYX",
        "colab_type": "text"
      },
      "source": [
        "Join fbs and conference infromation to graduation report."
      ]
    },
    {
      "cell_type": "code",
      "metadata": {
        "id": "s_CSiYCGhv77",
        "colab_type": "code",
        "colab": {}
      },
      "source": [
        "left_on = [\"Conference\"] \n",
        "right_on = [\"Conference\"]\n",
        "\n",
        "\n",
        "Report_Con = fuzzymatcher.fuzzy_left_join(FGR_GSR_report,NCAA_Conference, left_on, right_on)\n",
        "Report_Con = pd.DataFrame(Report_Con)\n",
        "Report_Con = Report_Con.sort_values(by='best_match_score', ascending = False)\n",
        "Report_Con = pd.DataFrame(Report_Con)\n",
        "Report_Con = Report_Con[Report_Con['best_match_score'] >-0.0024]\n",
        "Report_Con = Report_Con.reset_index()\n",
        "\n",
        "Report_Con = Report_Con[['School','Conference_left','State','GSR','FGR','Nickname']]\n",
        "\n",
        "#Report_Con = Report_Con.dropna()\n",
        "#Report_Con"
      ],
      "execution_count": 0,
      "outputs": []
    },
    {
      "cell_type": "markdown",
      "metadata": {
        "id": "vyten_wHjbob",
        "colab_type": "text"
      },
      "source": [
        "Join fbs_con to report_con"
      ]
    },
    {
      "cell_type": "code",
      "metadata": {
        "id": "PqogeBQQjfgs",
        "colab_type": "code",
        "colab": {}
      },
      "source": [
        "right_on = [\"School\"] \n",
        "left_on = [\"Team\"]\n",
        "\n",
        "fbs_con_report = fuzzymatcher.fuzzy_left_join(fbs_con,Report_Con, left_on, right_on)\n",
        "fbs_con_report = pd.DataFrame(fbs_con_report)\n",
        "fbs_con_report = fbs_con_report.sort_values(by='best_match_score', ascending = False)\n",
        "fbs_con_report = pd.DataFrame(fbs_con_report)\n",
        "fbs_con_report = fbs_con_report.reset_index()\n",
        "fbs_con_report = fbs_con_report.dropna()\n",
        "#fbs_con_report = fbs_con_report[fbs_con_report['best_match_score'] >0.12]\n",
        "#with pd.option_context('display.max_rows', None, 'display.max_columns', None): \n",
        " #   print(report_stadium_coaches_endow_fbs)\n",
        "\n",
        "fbs_con_report = fbs_con_report[['Team',\t'Nickname_left',\t'CurrentConference',\t'Enrollment',\t'Conference',\t'Nickname_right',\t'School',\t'Conference_left',\t'State',\t'GSR',\t'FGR',\t'Nickname']]\n",
        "#fbs_con_report"
      ],
      "execution_count": 0,
      "outputs": []
    },
    {
      "cell_type": "markdown",
      "metadata": {
        "id": "d9k-y5b_2yJo",
        "colab_type": "text"
      },
      "source": [
        "Join report with conference nickname to stadium list."
      ]
    },
    {
      "cell_type": "code",
      "metadata": {
        "id": "Iv19GAZvelH6",
        "colab_type": "code",
        "colab": {}
      },
      "source": [
        "left_on = [\"Team\"] \n",
        "right_on = [\"School\"]\n",
        "\n",
        "fbs_con_report_stadium = fuzzymatcher.fuzzy_left_join(fbs_con_report, NCAA_Stadium , left_on, right_on,)\n",
        "fbs_con_report_stadium = pd.DataFrame(fbs_con_report_stadium)\n",
        "fbs_con_report_stadium = fbs_con_report_stadium.sort_values(by='best_match_score', ascending = False) \n",
        "fbs_con_report_stadium = fbs_con_report_stadium.reset_index()\n",
        "fbs_con_report_stadium = pd.DataFrame(fbs_con_report_stadium)\n",
        "fbs_con_report_stadium = fbs_con_report_stadium[['Team','Nickname_left','CurrentConference','Enrollment','Conference_right','Nickname_right','School_left','State_left','GSR','FGR','Stadium','Capacity']]\n",
        "fbs_con_report_stadium = fbs_con_report_stadium.dropna()\n",
        "#fbs_con_report_stadium"
      ],
      "execution_count": 0,
      "outputs": []
    },
    {
      "cell_type": "markdown",
      "metadata": {
        "id": "DNOQtU4s25PW",
        "colab_type": "text"
      },
      "source": [
        "Join the coaches file to the stadium and graduation report with the nickname and use nickname to improve match. "
      ]
    },
    {
      "cell_type": "code",
      "metadata": {
        "id": "crRnQ8HyHdVm",
        "colab_type": "code",
        "colab": {}
      },
      "source": [
        "left_on = [\"School_left\"] \n",
        "right_on = [\"School\"]\n",
        "\n",
        "fbs_con_report_stadium_coaches = fuzzymatcher.fuzzy_left_join(fbs_con_report_stadium, Coaches , left_on, right_on,)\n",
        "fbs_con_report_stadium_coaches = fbs_con_report_stadium_coaches.reset_index()\n",
        "fbs_con_report_stadium_coaches = pd.DataFrame(fbs_con_report_stadium_coaches)\n",
        "fbs_con_report_stadium_coaches = fbs_con_report_stadium_coaches.sort_values(by='best_match_score', ascending = False) \n",
        "\n",
        "fbs_con_report_stadium_coaches = fbs_con_report_stadium_coaches[fbs_con_report_stadium_coaches['best_match_score'] >0]\n",
        "fbs_con_report_stadium_coaches = fbs_con_report_stadium_coaches[['Team',\t'Nickname_left',\t'CurrentConference',\t'Enrollment',\t'Conference_right',\t'Nickname_right',\t'School_left',\t'State_left',\t'GSR',\t'FGR',\t'Stadium',\t'Capacity',\t'School',\t'Conference',\t'Coach',\t'TotalPay',\t'Bonus',\t'BonusPaid','Buyout']]\n",
        "fbs_con_report_stadium_coaches = fbs_con_report_stadium_coaches.dropna()\n",
        "#report_stadium_coaches['School_left'] = report_stadium_coaches['School_left'].str.replace(r\"university\", \" \")\n",
        "\n",
        "fbs_con_report_stadium_coaches\n",
        "#with pd.option_context('display.max_rows', None, 'display.max_columns', None): \n",
        " #   print(report_stadium_coaches)\n",
        "#report_stadium_coaches['School_left'].value_counts()"
      ],
      "execution_count": 0,
      "outputs": []
    },
    {
      "cell_type": "markdown",
      "metadata": {
        "id": "NhdP_t-k3F1A",
        "colab_type": "text"
      },
      "source": [
        "Join endowment list to coaches, stadium and graduation report. This order produced the highest match rate after words like 'Conference' and 'University' were removed. "
      ]
    },
    {
      "cell_type": "code",
      "metadata": {
        "id": "2kU1VQzka_tC",
        "colab_type": "code",
        "colab": {}
      },
      "source": [
        "left_on = [\"School_left\"] \n",
        "right_on = [\"School\"]\n",
        "\n",
        "fbs_con_report_stadium_coaches_endow = fuzzymatcher.fuzzy_left_join(fbs_con_report_stadium_coaches,NCAA_Endowment, left_on, right_on)\n",
        "fbs_con_report_stadium_coaches_endow = pd.DataFrame(fbs_con_report_stadium_coaches_endow)\n",
        "fbs_con_report_stadium_coaches_endow = fbs_con_report_stadium_coaches_endow.sort_values(by='best_match_score', ascending = False)\n",
        "fbs_con_report_stadium_coaches_endow = pd.DataFrame(fbs_con_report_stadium_coaches_endow)\n",
        "\n",
        "#with pd.option_context('display.max_rows', None, 'display.max_columns', None): \n",
        " #   print(report_stadium_endow)\n",
        "#fbs_con_report_stadium_coaches_endow"
      ],
      "execution_count": 0,
      "outputs": []
    },
    {
      "cell_type": "markdown",
      "metadata": {
        "id": "bel2KN-h3W_Z",
        "colab_type": "text"
      },
      "source": [
        "Find and input the few missing endowment variables. These variables were missing from the list because the original list only counted those schools with an endowment of one billion dollars or more. "
      ]
    },
    {
      "cell_type": "code",
      "metadata": {
        "id": "V0Br8Iddzhe1",
        "colab_type": "code",
        "colab": {}
      },
      "source": [
        "##Replace missing values\n",
        "fbs_con_report_stadium_coaches_endow = fbs_con_report_stadium_coaches_endow[['Team',\t'Nickname_left',\t'CurrentConference',\t'Enrollment',\t'Conference_right',\t'Nickname_right',\t\t'State_left',\t'GSR',\t'FGR',\t'Stadium',\t'Capacity',\t'Conference',\t'Coach',\t'TotalPay',\t'Bonus',\t'BonusPaid',\t'Buyout',\t'School_right',\t'2018(billions USD)[3]']]\n",
        "\n",
        "#report_stadium_coaches_endow.dtypes\n",
        "#fbs_con_report_stadium_coaches_endow.index[fbs_con_report_stadium_coaches_endow['2018(billions USD)[3]'].isna()]\n",
        "#report_stadium_coaches_endow.loc[80]\n",
        "#report_stadium_coaches_endow.loc[445]\n",
        "#report_stadium_coaches_endow.loc[457]\n",
        "#report_stadium_coaches_endow.loc[458]\n",
        "#report_stadium_coaches_endow.loc[463]\n",
        "fbs_con_report_stadium_coaches_endow.at[80,'2018(billions USD)[3]'] = '$0.240'\n",
        "fbs_con_report_stadium_coaches_endow.at[445,'2018(billions USD)[3]'] = '$0.129'\n",
        "fbs_con_report_stadium_coaches_endow.at[457,'2018(billions USD)[3]'] = '$0.742'\n",
        "fbs_con_report_stadium_coaches_endow.at[458,'2018(billions USD)[3]'] = '$0.778'\n",
        "fbs_con_report_stadium_coaches_endow.at[463,'2018(billions USD)[3]'] = '$0.104'\n",
        "#fbs_con_report_stadium_coaches_endow"
      ],
      "execution_count": 0,
      "outputs": []
    },
    {
      "cell_type": "markdown",
      "metadata": {
        "id": "LToV9fe1A5ki",
        "colab_type": "text"
      },
      "source": [
        "Join record data."
      ]
    },
    {
      "cell_type": "code",
      "metadata": {
        "id": "6TwHAIVx3KGP",
        "colab_type": "code",
        "colab": {}
      },
      "source": [
        "left_on = [\"Team\"] \n",
        "right_on = [\"Team\"]\n",
        "\n",
        "fbs_record = fuzzymatcher.fuzzy_left_join(NCAA_fbs,record, left_on, right_on)\n",
        "fbs_record = pd.DataFrame(fbs_record)\n",
        "fbs_record = fbs_record.sort_values(by='best_match_score', ascending = False)\n",
        "fbs_record = fbs_record.reset_index()\n",
        "fbs_record = fbs_record.dropna()\n",
        "fbs_record = fbs_record[fbs_record['best_match_score']>0]\n",
        "\n",
        "#with pd.option_context('display.max_rows', None, 'display.max_columns', None): \n",
        " #   print(report_stadium_coaches_endow_fbs)\n",
        "\n",
        "fbs_record = fbs_record[['Team_left',\t'Nickname',\t'CurrentConference',\t'Enrollment',\t'Team_right',\t'Win-Loss Record',\t'Win %',\t'MOV',\t'ATS +/-']]\n",
        "#fbs_record"
      ],
      "execution_count": 0,
      "outputs": []
    },
    {
      "cell_type": "code",
      "metadata": {
        "id": "dNWMq08eCN_P",
        "colab_type": "code",
        "colab": {
          "base_uri": "https://localhost:8080/",
          "height": 204
        },
        "outputId": "f0124797-613b-453a-9d37-1fc280944459"
      },
      "source": [
        "left_on = [\"Team\",\"Nickname_left\"] \n",
        "right_on = [\"Team_left\",\"Nickname\"]\n",
        "\n",
        "all_join = fuzzymatcher.fuzzy_left_join(fbs_con_report_stadium_coaches_endow,fbs_record  , left_on, right_on,)\n",
        "all_join = pd.DataFrame(record_con)\n",
        "all_join = all_join.sort_values(by='best_match_score', ascending = False) \n",
        "all_join = all_join.reset_index()\n",
        "all_join = record_con[['Team','Nickname_left','Enrollment_left','State_left','GSR','FGR','Capacity','Conference','Coach','TotalPay','Bonus','BonusPaid','Buyout','2018(billions USD)[3]','Win-Loss Record',\t'Win %',\t'MOV',\t'ATS +/-']]\n",
        "all_join.Conference.value_counts()"
      ],
      "execution_count": 419,
      "outputs": [
        {
          "output_type": "execute_result",
          "data": {
            "text/plain": [
              "Sun Belt    14\n",
              "MAC         13\n",
              "SEC         12\n",
              "Mt. West    11\n",
              "ACC         11\n",
              "C-USA        9\n",
              "Big Ten      9\n",
              "Pac-12       9\n",
              "Big 12       8\n",
              "AAC          7\n",
              "Name: Conference, dtype: int64"
            ]
          },
          "metadata": {
            "tags": []
          },
          "execution_count": 419
        }
      ]
    },
    {
      "cell_type": "markdown",
      "metadata": {
        "id": "dOaC_KDM3slt",
        "colab_type": "text"
      },
      "source": [
        "The final dataframe to be utilized in the modeling exercise included 103 rows after adding individual missing values, carefully trimming bad matches by incrementally setting best match threshold levels, cutting certain words as mentioned previously and ordering the joins specifically to increase the likelyhood of a successful join. "
      ]
    },
    {
      "cell_type": "code",
      "metadata": {
        "id": "DVJk23yLUhy2",
        "colab_type": "code",
        "colab": {
          "base_uri": "https://localhost:8080/",
          "height": 221
        },
        "outputId": "0ddc9a4f-0144-453d-b25e-818685d81127"
      },
      "source": [
        "Coaches_Model = all_join\n",
        "\n",
        "Coaches_Model.reset_index\n",
        "Coaches_Model.TotalPay.describe"
      ],
      "execution_count": 392,
      "outputs": [
        {
          "output_type": "execute_result",
          "data": {
            "text/plain": [
              "<bound method NDFrame.describe of 38     6603600.0\n",
              "2      1831580.0\n",
              "0      3000000.0\n",
              "62     1425000.0\n",
              "123     390000.0\n",
              "         ...    \n",
              "24     4700000.0\n",
              "68      700000.0\n",
              "73      700000.0\n",
              "78      712500.0\n",
              "108    1102500.0\n",
              "Name: TotalPay, Length: 103, dtype: float64>"
            ]
          },
          "metadata": {
            "tags": []
          },
          "execution_count": 392
        }
      ]
    },
    {
      "cell_type": "markdown",
      "metadata": {
        "id": "VnuYWZwy5FRv",
        "colab_type": "text"
      },
      "source": [
        "## Analysis and Modeling Section"
      ]
    },
    {
      "cell_type": "code",
      "metadata": {
        "id": "_GO1L1eP67Yp",
        "colab_type": "code",
        "colab": {
          "base_uri": "https://localhost:8080/",
          "height": 297
        },
        "outputId": "2fd23d16-65e4-4964-9800-c3f4cff9ca4f"
      },
      "source": [
        "Coaches_Model.describe()"
      ],
      "execution_count": 420,
      "outputs": [
        {
          "output_type": "execute_result",
          "data": {
            "text/html": [
              "<div>\n",
              "<style scoped>\n",
              "    .dataframe tbody tr th:only-of-type {\n",
              "        vertical-align: middle;\n",
              "    }\n",
              "\n",
              "    .dataframe tbody tr th {\n",
              "        vertical-align: top;\n",
              "    }\n",
              "\n",
              "    .dataframe thead th {\n",
              "        text-align: right;\n",
              "    }\n",
              "</style>\n",
              "<table border=\"1\" class=\"dataframe\">\n",
              "  <thead>\n",
              "    <tr style=\"text-align: right;\">\n",
              "      <th></th>\n",
              "      <th>Enrollment</th>\n",
              "      <th>GSR</th>\n",
              "      <th>FGR</th>\n",
              "      <th>Capacity</th>\n",
              "      <th>TotalPay</th>\n",
              "      <th>Endowment</th>\n",
              "      <th>Win_Percent</th>\n",
              "      <th>MOV</th>\n",
              "      <th>Spread</th>\n",
              "      <th>runiform</th>\n",
              "    </tr>\n",
              "  </thead>\n",
              "  <tbody>\n",
              "    <tr>\n",
              "      <th>count</th>\n",
              "      <td>103.000000</td>\n",
              "      <td>103.000000</td>\n",
              "      <td>103.000000</td>\n",
              "      <td>103.000000</td>\n",
              "      <td>1.030000e+02</td>\n",
              "      <td>102.000000</td>\n",
              "      <td>103.000000</td>\n",
              "      <td>103.000000</td>\n",
              "      <td>103.000000</td>\n",
              "      <td>103.000000</td>\n",
              "    </tr>\n",
              "    <tr>\n",
              "      <th>mean</th>\n",
              "      <td>29584.466019</td>\n",
              "      <td>78.941748</td>\n",
              "      <td>62.669903</td>\n",
              "      <td>51601.009709</td>\n",
              "      <td>2.409998e+06</td>\n",
              "      <td>4.388941</td>\n",
              "      <td>52.897087</td>\n",
              "      <td>2.761165</td>\n",
              "      <td>-0.349515</td>\n",
              "      <td>0.519488</td>\n",
              "    </tr>\n",
              "    <tr>\n",
              "      <th>std</th>\n",
              "      <td>12969.918116</td>\n",
              "      <td>9.214040</td>\n",
              "      <td>11.579553</td>\n",
              "      <td>23548.909476</td>\n",
              "      <td>1.993115e+06</td>\n",
              "      <td>5.178093</td>\n",
              "      <td>21.781965</td>\n",
              "      <td>11.368888</td>\n",
              "      <td>4.203544</td>\n",
              "      <td>0.289661</td>\n",
              "    </tr>\n",
              "    <tr>\n",
              "      <th>min</th>\n",
              "      <td>4300.000000</td>\n",
              "      <td>54.000000</td>\n",
              "      <td>31.000000</td>\n",
              "      <td>20000.000000</td>\n",
              "      <td>3.900000e+05</td>\n",
              "      <td>0.104000</td>\n",
              "      <td>0.000000</td>\n",
              "      <td>-25.800000</td>\n",
              "      <td>-11.600000</td>\n",
              "      <td>0.013310</td>\n",
              "    </tr>\n",
              "    <tr>\n",
              "      <th>25%</th>\n",
              "      <td>21550.000000</td>\n",
              "      <td>73.000000</td>\n",
              "      <td>56.000000</td>\n",
              "      <td>30372.500000</td>\n",
              "      <td>7.062500e+05</td>\n",
              "      <td>1.295000</td>\n",
              "      <td>33.300000</td>\n",
              "      <td>-3.950000</td>\n",
              "      <td>-3.600000</td>\n",
              "      <td>0.274079</td>\n",
              "    </tr>\n",
              "    <tr>\n",
              "      <th>50%</th>\n",
              "      <td>27800.000000</td>\n",
              "      <td>78.000000</td>\n",
              "      <td>63.000000</td>\n",
              "      <td>47825.000000</td>\n",
              "      <td>1.800000e+06</td>\n",
              "      <td>1.735000</td>\n",
              "      <td>53.800000</td>\n",
              "      <td>0.200000</td>\n",
              "      <td>-0.100000</td>\n",
              "      <td>0.523862</td>\n",
              "    </tr>\n",
              "    <tr>\n",
              "      <th>75%</th>\n",
              "      <td>38200.000000</td>\n",
              "      <td>86.000000</td>\n",
              "      <td>69.000000</td>\n",
              "      <td>62548.500000</td>\n",
              "      <td>3.661875e+06</td>\n",
              "      <td>5.544000</td>\n",
              "      <td>69.200000</td>\n",
              "      <td>11.000000</td>\n",
              "      <td>2.450000</td>\n",
              "      <td>0.764060</td>\n",
              "    </tr>\n",
              "    <tr>\n",
              "      <th>max</th>\n",
              "      <td>69400.000000</td>\n",
              "      <td>100.000000</td>\n",
              "      <td>93.000000</td>\n",
              "      <td>107601.000000</td>\n",
              "      <td>8.307000e+06</td>\n",
              "      <td>30.886000</td>\n",
              "      <td>93.300000</td>\n",
              "      <td>33.100000</td>\n",
              "      <td>10.800000</td>\n",
              "      <td>0.993929</td>\n",
              "    </tr>\n",
              "  </tbody>\n",
              "</table>\n",
              "</div>"
            ],
            "text/plain": [
              "         Enrollment         GSR         FGR  ...         MOV      Spread    runiform\n",
              "count    103.000000  103.000000  103.000000  ...  103.000000  103.000000  103.000000\n",
              "mean   29584.466019   78.941748   62.669903  ...    2.761165   -0.349515    0.519488\n",
              "std    12969.918116    9.214040   11.579553  ...   11.368888    4.203544    0.289661\n",
              "min     4300.000000   54.000000   31.000000  ...  -25.800000  -11.600000    0.013310\n",
              "25%    21550.000000   73.000000   56.000000  ...   -3.950000   -3.600000    0.274079\n",
              "50%    27800.000000   78.000000   63.000000  ...    0.200000   -0.100000    0.523862\n",
              "75%    38200.000000   86.000000   69.000000  ...   11.000000    2.450000    0.764060\n",
              "max    69400.000000  100.000000   93.000000  ...   33.100000   10.800000    0.993929\n",
              "\n",
              "[8 rows x 10 columns]"
            ]
          },
          "metadata": {
            "tags": []
          },
          "execution_count": 420
        }
      ]
    },
    {
      "cell_type": "code",
      "metadata": {
        "id": "Blrk0_zkAchr",
        "colab_type": "code",
        "colab": {
          "base_uri": "https://localhost:8080/",
          "height": 419
        },
        "outputId": "99bb30cb-f39d-4300-9320-08da87e13af7"
      },
      "source": [
        "Coaches_Model = Coaches_Model.rename(columns={\"Nickname_left\":\"Nickname\",\"Enrollment_left\":\"Enrollment\",\"State_left\":\"State\",\"2018(billions USD)[3]\":\"Endowment\",\"Win-Loss Record\":\"Record\",\"Win %\":\"Win_Percent\",\"ATS +/-\":\"Spread\"})\n",
        "Coaches_Model"
      ],
      "execution_count": 393,
      "outputs": [
        {
          "output_type": "execute_result",
          "data": {
            "text/html": [
              "<div>\n",
              "<style scoped>\n",
              "    .dataframe tbody tr th:only-of-type {\n",
              "        vertical-align: middle;\n",
              "    }\n",
              "\n",
              "    .dataframe tbody tr th {\n",
              "        vertical-align: top;\n",
              "    }\n",
              "\n",
              "    .dataframe thead th {\n",
              "        text-align: right;\n",
              "    }\n",
              "</style>\n",
              "<table border=\"1\" class=\"dataframe\">\n",
              "  <thead>\n",
              "    <tr style=\"text-align: right;\">\n",
              "      <th></th>\n",
              "      <th>Team</th>\n",
              "      <th>Nickname</th>\n",
              "      <th>Enrollment</th>\n",
              "      <th>State</th>\n",
              "      <th>GSR</th>\n",
              "      <th>FGR</th>\n",
              "      <th>Capacity</th>\n",
              "      <th>Conference</th>\n",
              "      <th>Coach</th>\n",
              "      <th>TotalPay</th>\n",
              "      <th>Bonus</th>\n",
              "      <th>BonusPaid</th>\n",
              "      <th>Buyout</th>\n",
              "      <th>Endowment</th>\n",
              "      <th>Record</th>\n",
              "      <th>Win_Percent</th>\n",
              "      <th>MOV</th>\n",
              "      <th>Spread</th>\n",
              "      <th>runiform</th>\n",
              "    </tr>\n",
              "  </thead>\n",
              "  <tbody>\n",
              "    <tr>\n",
              "      <th>38</th>\n",
              "      <td>georgia tech</td>\n",
              "      <td>Yellow Jackets</td>\n",
              "      <td>32700</td>\n",
              "      <td>GA</td>\n",
              "      <td>64.0</td>\n",
              "      <td>44.0</td>\n",
              "      <td>55000.0</td>\n",
              "      <td>SEC</td>\n",
              "      <td>Kirby Smart</td>\n",
              "      <td>6603600.0</td>\n",
              "      <td>$1,150,000</td>\n",
              "      <td>$1,350,000</td>\n",
              "      <td>$27,917,500</td>\n",
              "      <td>$2.091</td>\n",
              "      <td>4-8-0</td>\n",
              "      <td>33.3%</td>\n",
              "      <td>0.2</td>\n",
              "      <td>-0.2</td>\n",
              "      <td>0.816901</td>\n",
              "    </tr>\n",
              "    <tr>\n",
              "      <th>2</th>\n",
              "      <td>wake forest</td>\n",
              "      <td>Demon Deacons</td>\n",
              "      <td>8100</td>\n",
              "      <td>NC</td>\n",
              "      <td>86.0</td>\n",
              "      <td>73.0</td>\n",
              "      <td>31500.0</td>\n",
              "      <td>ACC</td>\n",
              "      <td>Dave Clawson</td>\n",
              "      <td>1831580.0</td>\n",
              "      <td>--</td>\n",
              "      <td>--</td>\n",
              "      <td>--</td>\n",
              "      <td>$1.329</td>\n",
              "      <td>8-5-0</td>\n",
              "      <td>61.5%</td>\n",
              "      <td>2.8</td>\n",
              "      <td>-1.2</td>\n",
              "      <td>0.415111</td>\n",
              "    </tr>\n",
              "    <tr>\n",
              "      <th>0</th>\n",
              "      <td>north carolina</td>\n",
              "      <td>Tar Heels</td>\n",
              "      <td>29800</td>\n",
              "      <td>NC</td>\n",
              "      <td>71.0</td>\n",
              "      <td>54.0</td>\n",
              "      <td>51000.0</td>\n",
              "      <td>ACC</td>\n",
              "      <td>Dave Doeren</td>\n",
              "      <td>3000000.0</td>\n",
              "      <td>$1,350,000</td>\n",
              "      <td>$275,000</td>\n",
              "      <td>$6,125,000</td>\n",
              "      <td>$1.294</td>\n",
              "      <td>4-8-0</td>\n",
              "      <td>33.3%</td>\n",
              "      <td>-1.9</td>\n",
              "      <td>-6.8</td>\n",
              "      <td>0.263472</td>\n",
              "    </tr>\n",
              "    <tr>\n",
              "      <th>62</th>\n",
              "      <td>north texas</td>\n",
              "      <td>Mean Green</td>\n",
              "      <td>39400</td>\n",
              "      <td>TX</td>\n",
              "      <td>83.0</td>\n",
              "      <td>61.0</td>\n",
              "      <td>30850.0</td>\n",
              "      <td>C-USA</td>\n",
              "      <td>Seth Littrell</td>\n",
              "      <td>1425000.0</td>\n",
              "      <td>$580,000</td>\n",
              "      <td>$130,000</td>\n",
              "      <td>$4,425,000</td>\n",
              "      <td>$30.886</td>\n",
              "      <td>4-8-0</td>\n",
              "      <td>33.3%</td>\n",
              "      <td>-1.9</td>\n",
              "      <td>-6.8</td>\n",
              "      <td>0.709518</td>\n",
              "    </tr>\n",
              "    <tr>\n",
              "      <th>123</th>\n",
              "      <td>louisiana–monroe</td>\n",
              "      <td>Warhawks</td>\n",
              "      <td>8800</td>\n",
              "      <td>LA</td>\n",
              "      <td>76.0</td>\n",
              "      <td>64.0</td>\n",
              "      <td>30427.0</td>\n",
              "      <td>Sun Belt</td>\n",
              "      <td>Matt Viator</td>\n",
              "      <td>390000.0</td>\n",
              "      <td>$50,000</td>\n",
              "      <td>$0</td>\n",
              "      <td>$175,000</td>\n",
              "      <td>$11.008</td>\n",
              "      <td>5-7-0</td>\n",
              "      <td>41.7%</td>\n",
              "      <td>-7.1</td>\n",
              "      <td>-2.9</td>\n",
              "      <td>0.541177</td>\n",
              "    </tr>\n",
              "    <tr>\n",
              "      <th>...</th>\n",
              "      <td>...</td>\n",
              "      <td>...</td>\n",
              "      <td>...</td>\n",
              "      <td>...</td>\n",
              "      <td>...</td>\n",
              "      <td>...</td>\n",
              "      <td>...</td>\n",
              "      <td>...</td>\n",
              "      <td>...</td>\n",
              "      <td>...</td>\n",
              "      <td>...</td>\n",
              "      <td>...</td>\n",
              "      <td>...</td>\n",
              "      <td>...</td>\n",
              "      <td>...</td>\n",
              "      <td>...</td>\n",
              "      <td>...</td>\n",
              "      <td>...</td>\n",
              "      <td>...</td>\n",
              "    </tr>\n",
              "    <tr>\n",
              "      <th>24</th>\n",
              "      <td>iowa</td>\n",
              "      <td>Hawkeyes</td>\n",
              "      <td>33000</td>\n",
              "      <td>IA</td>\n",
              "      <td>85.0</td>\n",
              "      <td>70.0</td>\n",
              "      <td>70585.0</td>\n",
              "      <td>Big Ten</td>\n",
              "      <td>Kirk Ferentz</td>\n",
              "      <td>4700000.0</td>\n",
              "      <td>$2,875,000</td>\n",
              "      <td>$600,000</td>\n",
              "      <td>$22,396,250</td>\n",
              "      <td>$1.500</td>\n",
              "      <td>10-3-0</td>\n",
              "      <td>76.9%</td>\n",
              "      <td>11.8</td>\n",
              "      <td>4.2</td>\n",
              "      <td>0.205259</td>\n",
              "    </tr>\n",
              "    <tr>\n",
              "      <th>68</th>\n",
              "      <td>texas</td>\n",
              "      <td>Longhorns</td>\n",
              "      <td>51800</td>\n",
              "      <td>TX</td>\n",
              "      <td>71.0</td>\n",
              "      <td>62.0</td>\n",
              "      <td>100119.0</td>\n",
              "      <td>Sun Belt</td>\n",
              "      <td>Everett Withers</td>\n",
              "      <td>700000.0</td>\n",
              "      <td>$70,833</td>\n",
              "      <td>$0</td>\n",
              "      <td>$773,958</td>\n",
              "      <td>$1.307</td>\n",
              "      <td>8-5-0</td>\n",
              "      <td>61.5%</td>\n",
              "      <td>7.8</td>\n",
              "      <td>2.5</td>\n",
              "      <td>0.407478</td>\n",
              "    </tr>\n",
              "    <tr>\n",
              "      <th>73</th>\n",
              "      <td>louisiana</td>\n",
              "      <td>Ragin' Cajuns</td>\n",
              "      <td>19200</td>\n",
              "      <td>LA</td>\n",
              "      <td>71.0</td>\n",
              "      <td>31.0</td>\n",
              "      <td>41426.0</td>\n",
              "      <td>C-USA</td>\n",
              "      <td>Skip Holtz</td>\n",
              "      <td>700000.0</td>\n",
              "      <td>$395,000</td>\n",
              "      <td>$0</td>\n",
              "      <td>$2,508,333</td>\n",
              "      <td>$1.024</td>\n",
              "      <td>4-8-0</td>\n",
              "      <td>33.3%</td>\n",
              "      <td>0.2</td>\n",
              "      <td>-0.2</td>\n",
              "      <td>0.891857</td>\n",
              "    </tr>\n",
              "    <tr>\n",
              "      <th>78</th>\n",
              "      <td>appalachian state</td>\n",
              "      <td>Mountaineers</td>\n",
              "      <td>19100</td>\n",
              "      <td>NC</td>\n",
              "      <td>75.0</td>\n",
              "      <td>67.0</td>\n",
              "      <td>30000.0</td>\n",
              "      <td>Sun Belt</td>\n",
              "      <td>Scott Satterfield</td>\n",
              "      <td>712500.0</td>\n",
              "      <td>$295,000</td>\n",
              "      <td>$145,000</td>\n",
              "      <td>$2,160,417</td>\n",
              "      <td>$1.024</td>\n",
              "      <td>9-5-0</td>\n",
              "      <td>64.3%</td>\n",
              "      <td>4.9</td>\n",
              "      <td>1.4</td>\n",
              "      <td>0.761510</td>\n",
              "    </tr>\n",
              "    <tr>\n",
              "      <th>108</th>\n",
              "      <td>east carolina</td>\n",
              "      <td>Pirates</td>\n",
              "      <td>29100</td>\n",
              "      <td>NC</td>\n",
              "      <td>76.0</td>\n",
              "      <td>73.0</td>\n",
              "      <td>50000.0</td>\n",
              "      <td>AAC</td>\n",
              "      <td>Scottie Montgomery</td>\n",
              "      <td>1102500.0</td>\n",
              "      <td>$850,000</td>\n",
              "      <td>$0</td>\n",
              "      <td>$1,233,333</td>\n",
              "      <td>$1.294</td>\n",
              "      <td>4-8-0</td>\n",
              "      <td>33.3%</td>\n",
              "      <td>-3.7</td>\n",
              "      <td>-1.9</td>\n",
              "      <td>0.502308</td>\n",
              "    </tr>\n",
              "  </tbody>\n",
              "</table>\n",
              "<p>103 rows × 19 columns</p>\n",
              "</div>"
            ],
            "text/plain": [
              "                  Team        Nickname  Enrollment  ...   MOV  Spread  runiform\n",
              "38        georgia tech  Yellow Jackets       32700  ...   0.2    -0.2  0.816901\n",
              "2          wake forest   Demon Deacons        8100  ...   2.8    -1.2  0.415111\n",
              "0       north carolina       Tar Heels       29800  ...  -1.9    -6.8  0.263472\n",
              "62         north texas      Mean Green       39400  ...  -1.9    -6.8  0.709518\n",
              "123   louisiana–monroe        Warhawks        8800  ...  -7.1    -2.9  0.541177\n",
              "..                 ...             ...         ...  ...   ...     ...       ...\n",
              "24                iowa        Hawkeyes       33000  ...  11.8     4.2  0.205259\n",
              "68               texas       Longhorns       51800  ...   7.8     2.5  0.407478\n",
              "73           louisiana   Ragin' Cajuns       19200  ...   0.2    -0.2  0.891857\n",
              "78   appalachian state    Mountaineers       19100  ...   4.9     1.4  0.761510\n",
              "108      east carolina         Pirates       29100  ...  -3.7    -1.9  0.502308\n",
              "\n",
              "[103 rows x 19 columns]"
            ]
          },
          "metadata": {
            "tags": []
          },
          "execution_count": 393
        }
      ]
    },
    {
      "cell_type": "code",
      "metadata": {
        "id": "dulvczm0_iHF",
        "colab_type": "code",
        "colab": {}
      },
      "source": [
        "np.random.seed(1738)\n",
        "model_1 = str('TotalPay ~ Enrollment +\tState +\tGSR +\tFGR +\tCapacity +\tConference\t+\tBonus +\tBonusPaid +\tBuyout +\tEndowment +\tRecord +\tWin_Percent +\tMOV +\tSpread')\n",
        "model_1_fit = smf.ols(model_1, data = Coaches_Model).fit()\n",
        "#print(model_1_fit.summary())"
      ],
      "execution_count": 0,
      "outputs": []
    },
    {
      "cell_type": "markdown",
      "metadata": {
        "id": "f4zPPKJtDGOk",
        "colab_type": "text"
      },
      "source": [
        "An initial run of the linear regression with all variables was helpful to begin trimming the variables that are less than helpful to train a model. Given the small number of schools per state, that variable overfit the model. Bonus amount, Buyout, endowment, record and win_percent and BonusPaid also overfit and my work better in bins."
      ]
    },
    {
      "cell_type": "code",
      "metadata": {
        "id": "IXeWRrNyGLQ0",
        "colab_type": "code",
        "colab": {}
      },
      "source": [
        "#Coaches_Model.dtypes"
      ],
      "execution_count": 0,
      "outputs": []
    },
    {
      "cell_type": "code",
      "metadata": {
        "id": "Y39nj8Df8OK2",
        "colab_type": "code",
        "colab": {}
      },
      "source": [
        "#Coaches_Model['Bonus'] = Coaches_Model['Bonus'].replace({'\\$': '', ',': ''}, regex=True)\n",
        "#Coaches_Model['BonusPaid'] = Coaches_Model['BonusPaid'].replace({'\\$': '', ',': ''}, regex=True)\n",
        "#Coaches_Model['Buyout'] = Coaches_Model['Buyout'].replace({'\\$': '', ',': ''}, regex=True)\n",
        "#Coaches_Model['Endowment'] = Coaches_Model['Endowment'].replace({'\\$': '', ',': ''}, regex=True)\n",
        "#Coaches_Model['Win_Percent'] = Coaches_Model['Win_Percent'].replace({'%': '', ',': ''}, regex=True)\n",
        "#Coaches_Model['Bonus'] = Coaches_Model['Bonus'].astype(int)\n",
        "#Coaches_Model['BonusPaid'] = Coaches_Model['BonusPaid'].astype(int)\n",
        "#Coaches_Model['Buyout'] = Coaches_Model['Buyout'].astype(int)\n",
        "#Coaches_Model['Endowment'] = Coaches_Model['Endowment'].astype(float)\n",
        "#Coaches_Model['Win_Percent'] = Coaches_Model['Win_Percent'].astype(float)\n",
        "\n",
        "#Coaches_Model['Bonus_bin'] = pd.qcut(Coaches_Model[('Bonus')], q=4)\n",
        "#Coaches_Model['Buyout_bin'] = pd.qcut(Coaches_Model['Buyout'], q=4)\n",
        "#Coaches_Model['Endowment_bin'] = pd.qcut(Coaches_Model['Endowment'], q=4)\n",
        "#Coaches_Model['Win_Percent_bin'] = pd.qcut(Coaches_Model['Win_Percent'], q=4)\n",
        "#Coaches_Model['Enrollment_bin'] = pd.qcut(Coaches_Model['Enrollment'], q=4)\n",
        "\n",
        "#Coaches_Model\n"
      ],
      "execution_count": 0,
      "outputs": []
    },
    {
      "cell_type": "markdown",
      "metadata": {
        "id": "3W7w7Hu5Iw_2",
        "colab_type": "text"
      },
      "source": [
        "Second attempt at a model with new bins for endowment and win percent."
      ]
    },
    {
      "cell_type": "code",
      "metadata": {
        "id": "0x5ivtpDInse",
        "colab_type": "code",
        "colab": {}
      },
      "source": [
        "model_2 = str('TotalPay ~ Enrollment_bin +\tGSR +\tFGR +\tCapacity +\tConference\t+\tEndowment_bin +\tRecord +\tWin_Percent_bin +\tMOV +\tSpread')\n",
        "model_2_fit = smf.ols(model_2, data = Coaches_Model).fit()\n",
        "#print(model_2_fit.summary())"
      ],
      "execution_count": 0,
      "outputs": []
    },
    {
      "cell_type": "markdown",
      "metadata": {
        "id": "XcU9K9b1JUYW",
        "colab_type": "text"
      },
      "source": [
        "Throwing out enrollment_bin and record for crossing zero and high p-value."
      ]
    },
    {
      "cell_type": "code",
      "metadata": {
        "id": "4GrGp20QJrXW",
        "colab_type": "code",
        "colab": {
          "base_uri": "https://localhost:8080/",
          "height": 799
        },
        "outputId": "48e8d49c-1070-4242-b0b6-85da884b7a86"
      },
      "source": [
        "model_3 = str('TotalPay ~ GSR +\tFGR +\tCapacity +\tConference\t+\tEndowment_bin  +\tWin_Percent_bin +\tMOV +\tSpread')\n",
        "model_3_fit = smf.ols(model_3, data = Coaches_Model).fit()\n",
        "print(model_3_fit.summary())"
      ],
      "execution_count": 417,
      "outputs": [
        {
          "output_type": "stream",
          "text": [
            "                            OLS Regression Results                            \n",
            "==============================================================================\n",
            "Dep. Variable:               TotalPay   R-squared:                       0.818\n",
            "Model:                            OLS   Adj. R-squared:                  0.773\n",
            "Method:                 Least Squares   F-statistic:                     18.21\n",
            "Date:                Sun, 26 Jan 2020   Prob (F-statistic):           4.13e-22\n",
            "Time:                        00:01:26   Log-Likelihood:                -1537.0\n",
            "No. Observations:                 102   AIC:                             3116.\n",
            "Df Residuals:                      81   BIC:                             3171.\n",
            "Df Model:                          20                                         \n",
            "Covariance Type:            nonrobust                                         \n",
            "============================================================================================================================\n",
            "                                                               coef    std err          t      P>|t|      [0.025      0.975]\n",
            "----------------------------------------------------------------------------------------------------------------------------\n",
            "Intercept                                                 1.221e+06   1.07e+06      1.143      0.257   -9.05e+05    3.35e+06\n",
            "Conference[T.ACC]                                          1.58e+06   4.82e+05      3.280      0.002    6.22e+05    2.54e+06\n",
            "Conference[T.Big 12]                                       1.81e+06   5.09e+05      3.559      0.001    7.98e+05    2.82e+06\n",
            "Conference[T.Big Ten]                                     2.383e+06   5.39e+05      4.418      0.000    1.31e+06    3.46e+06\n",
            "Conference[T.C-USA]                                      -3.405e+05   5.18e+05     -0.657      0.513   -1.37e+06    6.91e+05\n",
            "Conference[T.MAC]                                          -6.3e+05    4.9e+05     -1.285      0.203   -1.61e+06    3.46e+05\n",
            "Conference[T.Mt. West]                                   -1.414e+05    4.9e+05     -0.289      0.774   -1.12e+06    8.33e+05\n",
            "Conference[T.Pac-12]                                       1.07e+06   5.06e+05      2.115      0.037    6.36e+04    2.08e+06\n",
            "Conference[T.SEC]                                         2.722e+06   5.01e+05      5.438      0.000    1.73e+06    3.72e+06\n",
            "Conference[T.Sun Belt]                                   -8.846e+05   4.72e+05     -1.873      0.065   -1.82e+06    5.52e+04\n",
            "Endowment_bin[T.Interval(1.295, 1.735, closed='right')]  -1.031e+05   2.93e+05     -0.352      0.726   -6.86e+05     4.8e+05\n",
            "Endowment_bin[T.Interval(1.735, 5.544, closed='right')]   -1.41e+04   2.91e+05     -0.048      0.961   -5.93e+05    5.64e+05\n",
            "Endowment_bin[T.Interval(5.544, 30.886, closed='right')]  3.566e+05   2.86e+05      1.249      0.215   -2.12e+05    9.25e+05\n",
            "Win_Percent_bin[T.Interval(33.3, 53.8, closed='right')]  -1.712e+05   3.44e+05     -0.498      0.620   -8.55e+05    5.13e+05\n",
            "Win_Percent_bin[T.Interval(53.8, 69.2, closed='right')]  -2.241e+05   3.89e+05     -0.576      0.566   -9.98e+05    5.49e+05\n",
            "Win_Percent_bin[T.Interval(69.2, 93.3, closed='right')]  -8.436e+04   5.47e+05     -0.154      0.878   -1.17e+06       1e+06\n",
            "GSR                                                       -452.7432   1.71e+04     -0.027      0.979   -3.44e+04    3.35e+04\n",
            "FGR                                                      -8488.1467   1.35e+04     -0.631      0.530   -3.52e+04    1.83e+04\n",
            "Capacity                                                    19.4568      5.827      3.339      0.001       7.864      31.050\n",
            "MOV                                                       4.352e+04   1.86e+04      2.334      0.022    6420.679    8.06e+04\n",
            "Spread                                                   -2.784e+04    3.2e+04     -0.871      0.386   -9.14e+04    3.58e+04\n",
            "==============================================================================\n",
            "Omnibus:                        2.034   Durbin-Watson:                   2.163\n",
            "Prob(Omnibus):                  0.362   Jarque-Bera (JB):                1.518\n",
            "Skew:                          -0.139   Prob(JB):                        0.468\n",
            "Kurtosis:                       3.529   Cond. No.                     7.79e+05\n",
            "==============================================================================\n",
            "\n",
            "Warnings:\n",
            "[1] Standard Errors assume that the covariance matrix of the errors is correctly specified.\n",
            "[2] The condition number is large, 7.79e+05. This might indicate that there are\n",
            "strong multicollinearity or other numerical problems.\n"
          ],
          "name": "stdout"
        }
      ]
    },
    {
      "cell_type": "markdown",
      "metadata": {
        "id": "U53ct0QQNW8K",
        "colab_type": "text"
      },
      "source": [
        "## Report"
      ]
    },
    {
      "cell_type": "markdown",
      "metadata": {
        "id": "U6fFbauJKGZz",
        "colab_type": "text"
      },
      "source": [
        "Base salary in the AAC is 1.2 million dollars, while the ACC (home of the Syracuse Orangemen) and Big Ten coaches would make 2.8 million dollars and 3.6 million dollars based on this model, respectively. Unfortunately, the Big East is outside this data set and not possible to estimate with this model. \n",
        "\n",
        "Just under 30 schools were dropped from the data set due to there inability to match on certain outside data. Many of those schools came from states with several FBS schools, like Texas and Florida, where matching their similar names became nearly immpossible without manually adjusting the join factors. \n",
        "\n",
        "While, I believe the model could be imporved in many ways an r-squared value of 81% is reasonable for this data set. Having all the records would likely improve the model, as would finding efficient bins for several of the continuous categories. \n",
        "\n",
        "Stadium capacity and several of the conferences have the most significantly low p-values, while endowment, winning percentage, graduation rates and beating the spread all have high p-values and several cross 0 in their variance. MOV or margin of victory is significant variable as well."
      ]
    },
    {
      "cell_type": "markdown",
      "metadata": {
        "id": "JVuEzFCFPKLS",
        "colab_type": "text"
      },
      "source": [
        "## Salary By Conference"
      ]
    },
    {
      "cell_type": "code",
      "metadata": {
        "id": "ErWn55IwPQ3N",
        "colab_type": "code",
        "colab": {
          "base_uri": "https://localhost:8080/",
          "height": 644
        },
        "outputId": "55a75d4b-bf25-4a10-92d3-cddc45fa517f"
      },
      "source": [
        "plt.figure(figsize=(15,10))\n",
        "sns.set(style=\"ticks\", palette=\"bright\")\n",
        "sns.boxplot(x='Conference',\n",
        "               y='TotalPay', \n",
        "              data=Coaches) \n",
        " \n",
        "plt.title('School Pay by Conference')"
      ],
      "execution_count": 430,
      "outputs": [
        {
          "output_type": "execute_result",
          "data": {
            "text/plain": [
              "Text(0.5, 1.0, 'School Pay by Conference')"
            ]
          },
          "metadata": {
            "tags": []
          },
          "execution_count": 430
        },
        {
          "output_type": "display_data",
          "data": {
            "image/png": "[encoded data removed]",
            "text/plain": [
              "<Figure size 1080x720 with 1 Axes>"
            ]
          },
          "metadata": {
            "tags": []
          }
        }
      ]
    }
  ]
}